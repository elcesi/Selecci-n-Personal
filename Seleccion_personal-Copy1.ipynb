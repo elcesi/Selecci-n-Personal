{
 "cells": [
  {
   "cell_type": "markdown",
   "metadata": {},
   "source": [
    "# -----------SELECCIÓN DE PERSONAL BASADO EN *LÓGICA BORROSA*-----------\n",
    "\n",
    "Con este método se cuantifica cuanta diferencia hay entre el candidato ideal y el resto de candidatos. En el ejemplo figuran las puntuaciones óptimas de cada candidato en un conjunto borroso con los grados de pertenencia de cada atributo, tres en nuestro caso. Cada atributo corresponde a un item valorable de su puesto de trabajo, como puede ser \"movilidad geográfica\", \"experiencia\", etc.\n",
    "\n",
    "El grado de pertenencia al conjunto borroso lo establece el experto en RRHH, así como la puntuación de cada candidato.El algoritmo permite incluir tantos candidatos y tantos atributos por candidato como se necesite.\n",
    "\n",
    "Para validar toma de decisiones se calcula la distancia de Hamming y la distancia euclidea entre cada candidato y el candidato óptimo"
   ]
  },
  {
   "cell_type": "markdown",
   "metadata": {},
   "source": [
    "### ELECCIÓN SEGÚN DISTANCIA DE HAMMING"
   ]
  },
  {
   "cell_type": "code",
   "execution_count": 55,
   "metadata": {
    "scrolled": true
   },
   "outputs": [
    {
     "name": "stdout",
     "output_type": "stream",
     "text": [
      "[0.09999999999999998, 0.09999999999999998, 0.09999999999999998]\n",
      "[0.0, 0.19999999999999996, 0.39999999999999997]\n",
      "[0.3, 0.0, 0.09999999999999998]\n"
     ]
    }
   ],
   "source": [
    "import numpy as np \n",
    "import pandas as pd\n",
    "cand_optimo = [0.3,0.5,0.6] \n",
    "cand1 = [0.2,0.4,0.5] \n",
    "cand2 = [0.3,0.7,0.2]\n",
    "cand3 = [0.6,0.5,0.5]\n",
    "score_cand1=list(abs(np.array(cand_optimo) - np.array(cand1)) ) \n",
    "score_cand2=list(abs(np.array(cand_optimo) - np.array(cand2)) )\n",
    "score_cand3=list(abs(np.array(cand_optimo) - np.array(cand3)) )\n",
    "print (score_cand1)\n",
    "print(score_cand2)\n",
    "print(score_cand3)"
   ]
  },
  {
   "cell_type": "code",
   "execution_count": 62,
   "metadata": {
    "scrolled": true
   },
   "outputs": [
    {
     "name": "stdout",
     "output_type": "stream",
     "text": [
      "El candidato seleccionado es: puntos_cand2\n",
      "El peor candidato es: puntos_cand1\n"
     ]
    },
    {
     "data": {
      "text/html": [
       "<div>\n",
       "<style scoped>\n",
       "    .dataframe tbody tr th:only-of-type {\n",
       "        vertical-align: middle;\n",
       "    }\n",
       "\n",
       "    .dataframe tbody tr th {\n",
       "        vertical-align: top;\n",
       "    }\n",
       "\n",
       "    .dataframe thead th {\n",
       "        text-align: right;\n",
       "    }\n",
       "</style>\n",
       "<table border=\"1\" class=\"dataframe\">\n",
       "  <thead>\n",
       "    <tr style=\"text-align: right;\">\n",
       "      <th></th>\n",
       "      <th>Puntuación</th>\n",
       "      <th>Candidato</th>\n",
       "    </tr>\n",
       "  </thead>\n",
       "  <tbody>\n",
       "    <tr>\n",
       "      <th>0</th>\n",
       "      <td>0.10</td>\n",
       "      <td>puntos_cand1</td>\n",
       "    </tr>\n",
       "    <tr>\n",
       "      <th>1</th>\n",
       "      <td>0.20</td>\n",
       "      <td>puntos_cand2</td>\n",
       "    </tr>\n",
       "    <tr>\n",
       "      <th>2</th>\n",
       "      <td>0.13</td>\n",
       "      <td>puntos_cand3</td>\n",
       "    </tr>\n",
       "  </tbody>\n",
       "</table>\n",
       "</div>"
      ],
      "text/plain": [
       "  Puntuación     Candidato\n",
       "0       0.10  puntos_cand1\n",
       "1       0.20  puntos_cand2\n",
       "2       0.13  puntos_cand3"
      ]
     },
     "execution_count": 62,
     "metadata": {},
     "output_type": "execute_result"
    }
   ],
   "source": [
    "puntos_cand1 = sum(score_cand1) / 3\n",
    "puntos_cand2 = sum(score_cand2) / 3\n",
    "puntos_cand3 = sum(score_cand3) / 3\n",
    "puntos_cand1 = \"%.2f\" % puntos_cand1\n",
    "puntos_cand2 = \"%.2f\" % puntos_cand2\n",
    "puntos_cand3 = \"%.2f\" % puntos_cand3\n",
    "resultado = {puntos_cand1: 'puntos_cand1', puntos_cand2: 'puntos_cand2', puntos_cand3: 'puntos_cand3' }\n",
    "#resultado = {'puntos_cand1':puntos_cand1, 'puntos_cand2':puntos_cand2, 'puntos_cand3':puntos_cand3 }\n",
    "resumen = pd.DataFrame([[key, resultado[key]] for key in resultado.keys()], columns=['Puntuación', \"Candidato\"])\n",
    "maximo = max(resultado)\n",
    "minimo = min(resultado)\n",
    "print(\"El candidato seleccionado es: %s\" % resultado[maximo])\n",
    "print(\"El peor candidato es: %s\" % resultado[minimo])\n",
    "resumen\n"
   ]
  },
  {
   "cell_type": "markdown",
   "metadata": {},
   "source": [
    "### ELECCIÓN SEGÚN DISTANCIA EUCLIDEA"
   ]
  },
  {
   "cell_type": "code",
   "execution_count": 59,
   "metadata": {},
   "outputs": [
    {
     "name": "stdout",
     "output_type": "stream",
     "text": [
      "0.09999999999999998\n",
      "0.2581988897471611\n",
      "0.18257418583505536\n",
      "El candidato seleccionado es: puntos_cand5\n",
      "El peor candidato es: puntos_cand4\n"
     ]
    },
    {
     "data": {
      "text/html": [
       "<div>\n",
       "<style scoped>\n",
       "    .dataframe tbody tr th:only-of-type {\n",
       "        vertical-align: middle;\n",
       "    }\n",
       "\n",
       "    .dataframe tbody tr th {\n",
       "        vertical-align: top;\n",
       "    }\n",
       "\n",
       "    .dataframe thead th {\n",
       "        text-align: right;\n",
       "    }\n",
       "</style>\n",
       "<table border=\"1\" class=\"dataframe\">\n",
       "  <thead>\n",
       "    <tr style=\"text-align: right;\">\n",
       "      <th></th>\n",
       "      <th>Puntuación</th>\n",
       "      <th>Candidato</th>\n",
       "    </tr>\n",
       "  </thead>\n",
       "  <tbody>\n",
       "    <tr>\n",
       "      <th>0</th>\n",
       "      <td>0.10</td>\n",
       "      <td>puntos_cand4</td>\n",
       "    </tr>\n",
       "    <tr>\n",
       "      <th>1</th>\n",
       "      <td>0.26</td>\n",
       "      <td>puntos_cand5</td>\n",
       "    </tr>\n",
       "    <tr>\n",
       "      <th>2</th>\n",
       "      <td>0.18</td>\n",
       "      <td>puntos_cand6</td>\n",
       "    </tr>\n",
       "  </tbody>\n",
       "</table>\n",
       "</div>"
      ],
      "text/plain": [
       "  Puntuación     Candidato\n",
       "0       0.10  puntos_cand4\n",
       "1       0.26  puntos_cand5\n",
       "2       0.18  puntos_cand6"
      ]
     },
     "execution_count": 59,
     "metadata": {},
     "output_type": "execute_result"
    }
   ],
   "source": [
    "cand_mejor = [0.3,0.5,0.6] \n",
    "cand4 = [0.2,0.4,0.5] \n",
    "cand5 = [0.3,0.7,0.2]\n",
    "cand6 = [0.6,0.5,0.5]\n",
    "score_cand4=list(np.array(cand_mejor) - np.array(cand4) ) \n",
    "score_cand5=list(np.array(cand_mejor) - np.array(cand5) ) \n",
    "score_cand6=list(np.array(cand_mejor) - np.array(cand6) ) \n",
    "e_score_cand4 = [n**2 for n in score_cand4]\n",
    "e_score_cand5 = [n**2 for n in score_cand5]\n",
    "e_score_cand6 = [n**2 for n in score_cand6]\n",
    "#print (e_score_cand4)\n",
    "puntos_cand4 = np.sqrt(sum(e_score_cand4) / 3)\n",
    "puntos_cand5 = np.sqrt(sum(e_score_cand5) / 3)\n",
    "puntos_cand6 = np.sqrt(sum(e_score_cand6) / 3)\n",
    "print (puntos_cand4)\n",
    "print (puntos_cand5)\n",
    "print (puntos_cand6)\n",
    "puntos_cand4 = \"%.2f\" % puntos_cand4\n",
    "puntos_cand5 = \"%.2f\" % puntos_cand5\n",
    "puntos_cand6 = \"%.2f\" % puntos_cand6\n",
    "resultad = {puntos_cand4: 'puntos_cand4', puntos_cand5: 'puntos_cand5', puntos_cand6: 'puntos_cand6' }\n",
    "resum = pd.DataFrame([[key, resultad[key]] for key in resultad.keys()], columns=['Puntuación', 'Candidato'])\n",
    "maximo = max(resultad)\n",
    "minimo = min(resultad)\n",
    "print(\"El candidato seleccionado es: %s\" % resultad[maximo])\n",
    "print(\"El peor candidato es: %s\" % resultad[minimo])\n",
    "resum"
   ]
  },
  {
   "cell_type": "markdown",
   "metadata": {},
   "source": [
    "Notese que los candidatos 1, 2 y 3 corresponden con los candidatos 3,4 y 5. Por lo tanto el resultado es el mismo con las dos distancias. "
   ]
  },
  {
   "cell_type": "markdown",
   "metadata": {},
   "source": [
    "# Calculo de similitud entre candidatos\n",
    "\n",
    "Nota: A mayor puntuación mayor similitud"
   ]
  },
  {
   "cell_type": "code",
   "execution_count": 77,
   "metadata": {
    "scrolled": true
   },
   "outputs": [
    {
     "name": "stdout",
     "output_type": "stream",
     "text": [
      "Los candidatos más parecidos son: puntos_c1_c3\n",
      "Los candidatos menos parecidos son: puntos_c2_c3\n"
     ]
    },
    {
     "data": {
      "text/html": [
       "<div>\n",
       "<style scoped>\n",
       "    .dataframe tbody tr th:only-of-type {\n",
       "        vertical-align: middle;\n",
       "    }\n",
       "\n",
       "    .dataframe tbody tr th {\n",
       "        vertical-align: top;\n",
       "    }\n",
       "\n",
       "    .dataframe thead th {\n",
       "        text-align: right;\n",
       "    }\n",
       "</style>\n",
       "<table border=\"1\" class=\"dataframe\">\n",
       "  <thead>\n",
       "    <tr style=\"text-align: right;\">\n",
       "      <th></th>\n",
       "      <th>Puntuación</th>\n",
       "      <th>Candidato</th>\n",
       "    </tr>\n",
       "  </thead>\n",
       "  <tbody>\n",
       "    <tr>\n",
       "      <th>0</th>\n",
       "      <td>0.3</td>\n",
       "      <td>puntos_c1_c2</td>\n",
       "    </tr>\n",
       "    <tr>\n",
       "      <th>1</th>\n",
       "      <td>0.5</td>\n",
       "      <td>puntos_c1_c3</td>\n",
       "    </tr>\n",
       "    <tr>\n",
       "      <th>2</th>\n",
       "      <td>0.2</td>\n",
       "      <td>puntos_c2_c3</td>\n",
       "    </tr>\n",
       "  </tbody>\n",
       "</table>\n",
       "</div>"
      ],
      "text/plain": [
       "   Puntuación     Candidato\n",
       "0         0.3  puntos_c1_c2\n",
       "1         0.5  puntos_c1_c3\n",
       "2         0.2  puntos_c2_c3"
      ]
     },
     "execution_count": 77,
     "metadata": {},
     "output_type": "execute_result"
    }
   ],
   "source": [
    "c1 = [0.2,0.4,0.5] \n",
    "c2 = [0.3,0.7,0.2]\n",
    "c3 = [0.6,0.5,0.5]\n",
    "score_c1_c2=list(abs(np.array(c1) - np.array(c2)) ) \n",
    "score_c1_c3=list(abs(np.array(c1) - np.array(c3)) )\n",
    "score_c2_c3=list(abs(np.array(c2) - np.array(c3)) )\n",
    "puntos_c1_c2 = 1-sum(score_c1_c2)\n",
    "puntos_c1_c3 = 1-sum(score_c1_c3)\n",
    "puntos_c2_c3 = 1-sum(score_c2_c3)\n",
    "R = {puntos_c1_c2: 'puntos_c1_c2', puntos_c1_c3: 'puntos_c1_c3', puntos_c2_c3: 'puntos_c2_c3' }\n",
    "res = pd.DataFrame([[key, R[key]] for key in R.keys()], columns=['Puntuación', 'Candidato'])\n",
    "maximo = max(R)\n",
    "minimo = min(R)\n",
    "print(\"Los candidatos más parecidos son: %s\" % R[maximo])\n",
    "print(\"Los candidatos menos parecidos son: %s\" % R[minimo])\n",
    "res\n"
   ]
  },
  {
   "cell_type": "code",
   "execution_count": null,
   "metadata": {},
   "outputs": [],
   "source": []
  }
 ],
 "metadata": {
  "kernelspec": {
   "display_name": "Python 3",
   "language": "python",
   "name": "python3"
  },
  "language_info": {
   "codemirror_mode": {
    "name": "ipython",
    "version": 3
   },
   "file_extension": ".py",
   "mimetype": "text/x-python",
   "name": "python",
   "nbconvert_exporter": "python",
   "pygments_lexer": "ipython3",
   "version": "3.7.0"
  }
 },
 "nbformat": 4,
 "nbformat_minor": 2
}
